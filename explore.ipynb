{
 "cells": [
  {
   "cell_type": "code",
   "execution_count": 1,
   "id": "70fec68a",
   "metadata": {},
   "outputs": [
    {
     "data": {
      "text/plain": [
       "(2315, 12972)"
      ]
     },
     "execution_count": 1,
     "metadata": {},
     "output_type": "execute_result"
    }
   ],
   "source": [
    "using JLD2, CodecZlib\n",
    "matches = load(\"matches-matrix.jld2\", \"matches\")\n",
    "nt, ng = size(matches)"
   ]
  },
  {
   "cell_type": "code",
   "execution_count": 2,
   "id": "bf7889ac",
   "metadata": {},
   "outputs": [],
   "source": [
    "using Images\n",
    "img_data = @view matches[:, 1:2*2315]\n",
    "img = Gray.(N0f8.(img_data ./ 255));"
   ]
  },
  {
   "cell_type": "code",
   "execution_count": 5,
   "id": "09c65c21",
   "metadata": {},
   "outputs": [],
   "source": [
    "Images.save(\"matches.png\", img)"
   ]
  },
  {
   "cell_type": "code",
   "execution_count": null,
   "id": "65440de6",
   "metadata": {},
   "outputs": [],
   "source": []
  }
 ],
 "metadata": {
  "kernelspec": {
   "display_name": "Julia 1.11.6",
   "language": "julia",
   "name": "julia-1.11"
  },
  "language_info": {
   "file_extension": ".jl",
   "mimetype": "application/julia",
   "name": "julia",
   "version": "1.11.6"
  }
 },
 "nbformat": 4,
 "nbformat_minor": 5
}
