{
 "cells": [
  {
   "cell_type": "code",
   "execution_count": null,
   "id": "70fec68a",
   "metadata": {},
   "outputs": [],
   "source": [
    "using JLD2, CodecZlib\n",
    "matches = load(\"matches-matrix.jld2\", \"matches\")\n",
    "nt, ng = size(matches)"
   ]
  },
  {
   "cell_type": "code",
   "execution_count": null,
   "id": "bf7889ac",
   "metadata": {},
   "outputs": [],
   "source": [
    "using Images\n",
    "img_data = @view matches[:, 1:2*2315]\n",
    "img = Gray.(N0f8.(img_data ./ 255))"
   ]
  },
  {
   "cell_type": "code",
   "execution_count": null,
   "id": "09c65c21",
   "metadata": {},
   "outputs": [],
   "source": []
  }
 ],
 "metadata": {
  "kernelspec": {
   "display_name": "Julia 1.11.6",
   "language": "julia",
   "name": "julia-1.11"
  },
  "language_info": {
   "file_extension": ".jl",
   "mimetype": "application/julia",
   "name": "julia",
   "version": "1.11.6"
  }
 },
 "nbformat": 4,
 "nbformat_minor": 5
}
